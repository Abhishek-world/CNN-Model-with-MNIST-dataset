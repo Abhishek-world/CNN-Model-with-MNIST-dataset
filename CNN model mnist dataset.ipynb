{
 "cells": [
  {
   "cell_type": "code",
   "execution_count": 2,
   "metadata": {},
   "outputs": [
    {
     "name": "stdout",
     "output_type": "stream",
     "text": [
      "Collecting mnist\n",
      "  Downloading mnist-0.2.2-py2.py3-none-any.whl (3.5 kB)\n",
      "Requirement already satisfied: numpy in c:\\programdata\\anaconda3\\lib\\site-packages (from mnist) (1.16.4)\n",
      "Installing collected packages: mnist\n",
      "Successfully installed mnist-0.2.2\n",
      "Note: you may need to restart the kernel to use updated packages.\n"
     ]
    }
   ],
   "source": [
    "pip install mnist"
   ]
  },
  {
   "cell_type": "code",
   "execution_count": 9,
   "metadata": {},
   "outputs": [],
   "source": [
    "import numpy as np\n",
    "import mnist\n",
    "import keras\n",
    "from keras.models import Sequential\n",
    "from keras.layers import Conv2D,MaxPooling2D,Flatten,Dense\n",
    "from keras.utils import to_categorical"
   ]
  },
  {
   "cell_type": "code",
   "execution_count": 8,
   "metadata": {},
   "outputs": [],
   "source": [
    "train_images=mnist.train_images()\n",
    "train_labels=mnist.train_labels()\n",
    "test_images=mnist.test_images()\n",
    "test_labels=mnist.test_labels()"
   ]
  },
  {
   "cell_type": "code",
   "execution_count": 25,
   "metadata": {},
   "outputs": [
    {
     "data": {
      "text/plain": [
       "array([[[[-0.5],\n",
       "         [-0.5],\n",
       "         [-0.5],\n",
       "         ...,\n",
       "         [-0.5],\n",
       "         [-0.5],\n",
       "         [-0.5]],\n",
       "\n",
       "        [[-0.5],\n",
       "         [-0.5],\n",
       "         [-0.5],\n",
       "         ...,\n",
       "         [-0.5],\n",
       "         [-0.5],\n",
       "         [-0.5]],\n",
       "\n",
       "        [[-0.5],\n",
       "         [-0.5],\n",
       "         [-0.5],\n",
       "         ...,\n",
       "         [-0.5],\n",
       "         [-0.5],\n",
       "         [-0.5]],\n",
       "\n",
       "        ...,\n",
       "\n",
       "        [[-0.5],\n",
       "         [-0.5],\n",
       "         [-0.5],\n",
       "         ...,\n",
       "         [-0.5],\n",
       "         [-0.5],\n",
       "         [-0.5]],\n",
       "\n",
       "        [[-0.5],\n",
       "         [-0.5],\n",
       "         [-0.5],\n",
       "         ...,\n",
       "         [-0.5],\n",
       "         [-0.5],\n",
       "         [-0.5]],\n",
       "\n",
       "        [[-0.5],\n",
       "         [-0.5],\n",
       "         [-0.5],\n",
       "         ...,\n",
       "         [-0.5],\n",
       "         [-0.5],\n",
       "         [-0.5]]],\n",
       "\n",
       "\n",
       "       [[[-0.5],\n",
       "         [-0.5],\n",
       "         [-0.5],\n",
       "         ...,\n",
       "         [-0.5],\n",
       "         [-0.5],\n",
       "         [-0.5]],\n",
       "\n",
       "        [[-0.5],\n",
       "         [-0.5],\n",
       "         [-0.5],\n",
       "         ...,\n",
       "         [-0.5],\n",
       "         [-0.5],\n",
       "         [-0.5]],\n",
       "\n",
       "        [[-0.5],\n",
       "         [-0.5],\n",
       "         [-0.5],\n",
       "         ...,\n",
       "         [-0.5],\n",
       "         [-0.5],\n",
       "         [-0.5]],\n",
       "\n",
       "        ...,\n",
       "\n",
       "        [[-0.5],\n",
       "         [-0.5],\n",
       "         [-0.5],\n",
       "         ...,\n",
       "         [-0.5],\n",
       "         [-0.5],\n",
       "         [-0.5]],\n",
       "\n",
       "        [[-0.5],\n",
       "         [-0.5],\n",
       "         [-0.5],\n",
       "         ...,\n",
       "         [-0.5],\n",
       "         [-0.5],\n",
       "         [-0.5]],\n",
       "\n",
       "        [[-0.5],\n",
       "         [-0.5],\n",
       "         [-0.5],\n",
       "         ...,\n",
       "         [-0.5],\n",
       "         [-0.5],\n",
       "         [-0.5]]],\n",
       "\n",
       "\n",
       "       [[[-0.5],\n",
       "         [-0.5],\n",
       "         [-0.5],\n",
       "         ...,\n",
       "         [-0.5],\n",
       "         [-0.5],\n",
       "         [-0.5]],\n",
       "\n",
       "        [[-0.5],\n",
       "         [-0.5],\n",
       "         [-0.5],\n",
       "         ...,\n",
       "         [-0.5],\n",
       "         [-0.5],\n",
       "         [-0.5]],\n",
       "\n",
       "        [[-0.5],\n",
       "         [-0.5],\n",
       "         [-0.5],\n",
       "         ...,\n",
       "         [-0.5],\n",
       "         [-0.5],\n",
       "         [-0.5]],\n",
       "\n",
       "        ...,\n",
       "\n",
       "        [[-0.5],\n",
       "         [-0.5],\n",
       "         [-0.5],\n",
       "         ...,\n",
       "         [-0.5],\n",
       "         [-0.5],\n",
       "         [-0.5]],\n",
       "\n",
       "        [[-0.5],\n",
       "         [-0.5],\n",
       "         [-0.5],\n",
       "         ...,\n",
       "         [-0.5],\n",
       "         [-0.5],\n",
       "         [-0.5]],\n",
       "\n",
       "        [[-0.5],\n",
       "         [-0.5],\n",
       "         [-0.5],\n",
       "         ...,\n",
       "         [-0.5],\n",
       "         [-0.5],\n",
       "         [-0.5]]],\n",
       "\n",
       "\n",
       "       ...,\n",
       "\n",
       "\n",
       "       [[[-0.5],\n",
       "         [-0.5],\n",
       "         [-0.5],\n",
       "         ...,\n",
       "         [-0.5],\n",
       "         [-0.5],\n",
       "         [-0.5]],\n",
       "\n",
       "        [[-0.5],\n",
       "         [-0.5],\n",
       "         [-0.5],\n",
       "         ...,\n",
       "         [-0.5],\n",
       "         [-0.5],\n",
       "         [-0.5]],\n",
       "\n",
       "        [[-0.5],\n",
       "         [-0.5],\n",
       "         [-0.5],\n",
       "         ...,\n",
       "         [-0.5],\n",
       "         [-0.5],\n",
       "         [-0.5]],\n",
       "\n",
       "        ...,\n",
       "\n",
       "        [[-0.5],\n",
       "         [-0.5],\n",
       "         [-0.5],\n",
       "         ...,\n",
       "         [-0.5],\n",
       "         [-0.5],\n",
       "         [-0.5]],\n",
       "\n",
       "        [[-0.5],\n",
       "         [-0.5],\n",
       "         [-0.5],\n",
       "         ...,\n",
       "         [-0.5],\n",
       "         [-0.5],\n",
       "         [-0.5]],\n",
       "\n",
       "        [[-0.5],\n",
       "         [-0.5],\n",
       "         [-0.5],\n",
       "         ...,\n",
       "         [-0.5],\n",
       "         [-0.5],\n",
       "         [-0.5]]],\n",
       "\n",
       "\n",
       "       [[[-0.5],\n",
       "         [-0.5],\n",
       "         [-0.5],\n",
       "         ...,\n",
       "         [-0.5],\n",
       "         [-0.5],\n",
       "         [-0.5]],\n",
       "\n",
       "        [[-0.5],\n",
       "         [-0.5],\n",
       "         [-0.5],\n",
       "         ...,\n",
       "         [-0.5],\n",
       "         [-0.5],\n",
       "         [-0.5]],\n",
       "\n",
       "        [[-0.5],\n",
       "         [-0.5],\n",
       "         [-0.5],\n",
       "         ...,\n",
       "         [-0.5],\n",
       "         [-0.5],\n",
       "         [-0.5]],\n",
       "\n",
       "        ...,\n",
       "\n",
       "        [[-0.5],\n",
       "         [-0.5],\n",
       "         [-0.5],\n",
       "         ...,\n",
       "         [-0.5],\n",
       "         [-0.5],\n",
       "         [-0.5]],\n",
       "\n",
       "        [[-0.5],\n",
       "         [-0.5],\n",
       "         [-0.5],\n",
       "         ...,\n",
       "         [-0.5],\n",
       "         [-0.5],\n",
       "         [-0.5]],\n",
       "\n",
       "        [[-0.5],\n",
       "         [-0.5],\n",
       "         [-0.5],\n",
       "         ...,\n",
       "         [-0.5],\n",
       "         [-0.5],\n",
       "         [-0.5]]],\n",
       "\n",
       "\n",
       "       [[[-0.5],\n",
       "         [-0.5],\n",
       "         [-0.5],\n",
       "         ...,\n",
       "         [-0.5],\n",
       "         [-0.5],\n",
       "         [-0.5]],\n",
       "\n",
       "        [[-0.5],\n",
       "         [-0.5],\n",
       "         [-0.5],\n",
       "         ...,\n",
       "         [-0.5],\n",
       "         [-0.5],\n",
       "         [-0.5]],\n",
       "\n",
       "        [[-0.5],\n",
       "         [-0.5],\n",
       "         [-0.5],\n",
       "         ...,\n",
       "         [-0.5],\n",
       "         [-0.5],\n",
       "         [-0.5]],\n",
       "\n",
       "        ...,\n",
       "\n",
       "        [[-0.5],\n",
       "         [-0.5],\n",
       "         [-0.5],\n",
       "         ...,\n",
       "         [-0.5],\n",
       "         [-0.5],\n",
       "         [-0.5]],\n",
       "\n",
       "        [[-0.5],\n",
       "         [-0.5],\n",
       "         [-0.5],\n",
       "         ...,\n",
       "         [-0.5],\n",
       "         [-0.5],\n",
       "         [-0.5]],\n",
       "\n",
       "        [[-0.5],\n",
       "         [-0.5],\n",
       "         [-0.5],\n",
       "         ...,\n",
       "         [-0.5],\n",
       "         [-0.5],\n",
       "         [-0.5]]]])"
      ]
     },
     "execution_count": 25,
     "metadata": {},
     "output_type": "execute_result"
    }
   ],
   "source": [
    "train_images"
   ]
  },
  {
   "cell_type": "code",
   "execution_count": 6,
   "metadata": {},
   "outputs": [
    {
     "name": "stdout",
     "output_type": "stream",
     "text": [
      "(60000, 28, 28)\n"
     ]
    }
   ],
   "source": [
    "print(train_images.shape)"
   ]
  },
  {
   "cell_type": "code",
   "execution_count": 7,
   "metadata": {},
   "outputs": [
    {
     "name": "stdout",
     "output_type": "stream",
     "text": [
      "(10000, 28, 28)\n"
     ]
    }
   ],
   "source": [
    "print(test_images.shape)"
   ]
  },
  {
   "cell_type": "code",
   "execution_count": 10,
   "metadata": {},
   "outputs": [],
   "source": [
    "train_images=(train_images/255)-0.5\n",
    "test_images=(test_images/255)-0.5\n",
    "train_images=np.expand_dims(train_images,axis=3)\n",
    "test_images=np.expand_dims(test_images,axis=3)\n"
   ]
  },
  {
   "cell_type": "code",
   "execution_count": 11,
   "metadata": {},
   "outputs": [
    {
     "data": {
      "text/plain": [
       "(60000, 28, 28, 1)"
      ]
     },
     "execution_count": 11,
     "metadata": {},
     "output_type": "execute_result"
    }
   ],
   "source": [
    "train_images.shape"
   ]
  },
  {
   "cell_type": "code",
   "execution_count": 12,
   "metadata": {},
   "outputs": [],
   "source": [
    "num_classes=10\n",
    "epochs=10\n",
    "batch_size=128\n",
    "num_filters=3\n",
    "filter_size=3\n",
    "pool_size=2"
   ]
  },
  {
   "cell_type": "code",
   "execution_count": 13,
   "metadata": {},
   "outputs": [],
   "source": [
    "model=Sequential([Conv2D(num_filters,filter_size,input_shape=(28,28,1),activation='relu'),MaxPooling2D(pool_size=pool_size),Conv2D(num_filters,filter_size,activation='relu'),MaxPooling2D(pool_size=pool_size),Flatten(),Dense(10,activation='softmax')])"
   ]
  },
  {
   "cell_type": "code",
   "execution_count": 17,
   "metadata": {},
   "outputs": [
    {
     "name": "stdout",
     "output_type": "stream",
     "text": [
      "Train on 60000 samples, validate on 10000 samples\n",
      "Epoch 1/3\n",
      "60000/60000 [==============================] - 13s 215us/step - loss: 0.3189 - accuracy: 0.9015 - val_loss: 0.1458 - val_accuracy: 0.9548\n",
      "Epoch 2/3\n",
      "60000/60000 [==============================] - 12s 193us/step - loss: 0.1604 - accuracy: 0.9502 - val_loss: 0.1281 - val_accuracy: 0.9616\n",
      "Epoch 3/3\n",
      "60000/60000 [==============================] - 12s 194us/step - loss: 0.1410 - accuracy: 0.9567 - val_loss: 0.1143 - val_accuracy: 0.9654\n"
     ]
    },
    {
     "data": {
      "text/plain": [
       "<keras.callbacks.callbacks.History at 0x2053fc7de80>"
      ]
     },
     "execution_count": 17,
     "metadata": {},
     "output_type": "execute_result"
    }
   ],
   "source": [
    "model.compile(loss=keras.losses.categorical_crossentropy,optimizer=keras.optimizers.SGD(lr=0.1),metrics=['accuracy'])\n",
    "model.fit(train_images,to_categorical(train_labels),epochs=3,validation_data=(test_images,to_categorical(test_labels)))"
   ]
  },
  {
   "cell_type": "code",
   "execution_count": 20,
   "metadata": {},
   "outputs": [
    {
     "name": "stdout",
     "output_type": "stream",
     "text": [
      "[[0. 0. 0. ... 1. 0. 0.]\n",
      " [0. 0. 1. ... 0. 0. 0.]\n",
      " [0. 1. 0. ... 0. 0. 0.]\n",
      " ...\n",
      " [0. 0. 0. ... 0. 0. 0.]\n",
      " [0. 0. 0. ... 0. 0. 0.]\n",
      " [0. 0. 0. ... 0. 0. 0.]]\n"
     ]
    }
   ],
   "source": [
    "print(to_categorical(test_labels))"
   ]
  },
  {
   "cell_type": "code",
   "execution_count": 21,
   "metadata": {},
   "outputs": [
    {
     "name": "stdout",
     "output_type": "stream",
     "text": [
      "[7 2 1 0 4]\n"
     ]
    }
   ],
   "source": [
    "predictions=model.predict(test_images[:5])\n",
    "print(np.argmax(predictions,axis=1))"
   ]
  },
  {
   "cell_type": "code",
   "execution_count": 22,
   "metadata": {},
   "outputs": [
    {
     "name": "stdout",
     "output_type": "stream",
     "text": [
      "[7 2 1 0 4]\n"
     ]
    }
   ],
   "source": [
    "print(test_labels[:5])"
   ]
  },
  {
   "cell_type": "code",
   "execution_count": null,
   "metadata": {},
   "outputs": [],
   "source": []
  }
 ],
 "metadata": {
  "kernelspec": {
   "display_name": "Python 3",
   "language": "python",
   "name": "python3"
  },
  "language_info": {
   "codemirror_mode": {
    "name": "ipython",
    "version": 3
   },
   "file_extension": ".py",
   "mimetype": "text/x-python",
   "name": "python",
   "nbconvert_exporter": "python",
   "pygments_lexer": "ipython3",
   "version": "3.7.3"
  }
 },
 "nbformat": 4,
 "nbformat_minor": 2
}
